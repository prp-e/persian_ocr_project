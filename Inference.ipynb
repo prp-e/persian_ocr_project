{
 "cells": [
  {
   "cell_type": "markdown",
   "id": "liked-spank",
   "metadata": {},
   "source": [
    "# 1. PyTorch Installation"
   ]
  },
  {
   "cell_type": "markdown",
   "id": "annoying-mailing",
   "metadata": {},
   "source": [
    "_NOTE_: If you run this notebook on Google Colab or any similar services, there's a possibility that they might have `pytorch` package installed. But if it's on a local machine, run the following cells (depends on what type of machine you have)"
   ]
  },
  {
   "cell_type": "markdown",
   "id": "operating-memorabilia",
   "metadata": {},
   "source": [
    "## 1.1. CPU"
   ]
  },
  {
   "cell_type": "code",
   "execution_count": null,
   "id": "military-transformation",
   "metadata": {},
   "outputs": [],
   "source": [
    "!pip3 install torch torchvision torchaudio --extra-index-url https://download.pytorch.org/whl/cpu\n"
   ]
  },
  {
   "cell_type": "markdown",
   "id": "appointed-insulation",
   "metadata": {},
   "source": [
    "## 1.2. GPU (an alternative to 1.1, if you have a high-end NVIDIA GPU with support of CUDA)"
   ]
  },
  {
   "cell_type": "code",
   "execution_count": null,
   "id": "weighted-sympathy",
   "metadata": {},
   "outputs": [],
   "source": [
    "!pip3 install torch torchvision torchaudio --extra-index-url https://download.pytorch.org/whl/cu113"
   ]
  },
  {
   "cell_type": "markdown",
   "id": "peripheral-housing",
   "metadata": {},
   "source": [
    "# 2. Checking for models and downloading them"
   ]
  },
  {
   "cell_type": "markdown",
   "id": "looking-canadian",
   "metadata": {},
   "source": [
    "_NOTE_: If you have downloaded the models from our [repository], then just create a folder called `models` and put your model files inside it. Otherwise, run the following cells"
   ]
  },
  {
   "cell_type": "code",
   "execution_count": 8,
   "id": "behavioral-burton",
   "metadata": {},
   "outputs": [
    {
     "name": "stdout",
     "output_type": "stream",
     "text": [
      "Models are there, where are you?\n"
     ]
    }
   ],
   "source": [
    "import os\n",
    "\n",
    "if 'models' in os.listdir():\n",
    "    if os.listdir('models'):\n",
    "        print('Models are there, where are you?')\n",
    "    else:\n",
    "        !cd models && wget https://persianocr.cam/models/letters.pt\n",
    "        !cd models && wget https://persianocr.cam/models/numbers.pt\n",
    "else:\n",
    "    os.mkdir('models')\n",
    "    !cd models && wget https://persianocr.cam/models/letters.pt\n",
    "    !cd models && wget https://persianocr.cam/models/numbers.pt"
   ]
  },
  {
   "cell_type": "markdown",
   "id": "dedicated-point",
   "metadata": {},
   "source": [
    "# 3. Loading the models for inference and testing"
   ]
  },
  {
   "cell_type": "markdown",
   "id": "particular-middle",
   "metadata": {},
   "source": [
    "## 3.1. Importing libraries"
   ]
  },
  {
   "cell_type": "code",
   "execution_count": 9,
   "id": "smaller-might",
   "metadata": {},
   "outputs": [],
   "source": [
    "import cv2\n",
    "import numpy as np\n",
    "import matplotlib.pyplot as plt\n",
    "import pandas as pd\n",
    "import torch"
   ]
  },
  {
   "cell_type": "markdown",
   "id": "quick-england",
   "metadata": {},
   "source": [
    "## 3.2. Resolving SSL problem (Optional and Occasional)"
   ]
  },
  {
   "cell_type": "markdown",
   "id": "packed-working",
   "metadata": {},
   "source": [
    "Only run this cell if:\n",
    "\n",
    "1. You're on a Mac. Most of macOS users got errors regarding SSL problems (so did I)\n",
    "2. You get SSL related errors in other OSs. \n",
    "\n",
    "If you're on Colab or similar services, you obviously don't need this cell."
   ]
  },
  {
   "cell_type": "code",
   "execution_count": 10,
   "id": "alike-craps",
   "metadata": {},
   "outputs": [],
   "source": [
    "import ssl\n",
    "\n",
    "try:\n",
    "    _create_unverified_https_context = ssl._create_unverified_context\n",
    "except AttributeError:\n",
    "    pass\n",
    "else:\n",
    "    ssl._create_default_https_context = _create_unverified_https_context"
   ]
  },
  {
   "cell_type": "markdown",
   "id": "external-leave",
   "metadata": {},
   "source": [
    "## 3.3. Functions for text extraction"
   ]
  },
  {
   "cell_type": "markdown",
   "id": "killing-thermal",
   "metadata": {},
   "source": [
    "### 3.3.1. Numbers"
   ]
  },
  {
   "cell_type": "code",
   "execution_count": 11,
   "id": "accomplished-recorder",
   "metadata": {},
   "outputs": [],
   "source": [
    "_translator = str.maketrans(\"1234567890\", \"۱۲۳۴۵۶۷۸۹۰\")"
   ]
  },
  {
   "cell_type": "code",
   "execution_count": 12,
   "id": "european-edgar",
   "metadata": {},
   "outputs": [],
   "source": [
    "def latin_to_persian(number):\n",
    "    return number.translate(_translator)"
   ]
  },
  {
   "cell_type": "code",
   "execution_count": 13,
   "id": "unlikely-material",
   "metadata": {},
   "outputs": [],
   "source": [
    "def extract_chars(result):\n",
    "    df = result.pandas().xyxy[0] # because we only need the first one\n",
    "    df = df.sort_values('xmin') # sorts them write to left'\n",
    "    \n",
    "    output_string = []\n",
    "    for name, confidence in zip(df['name'], df['confidence']):\n",
    "        if confidence > 0.8:\n",
    "            output_string.append(name)\n",
    "            \n",
    "    output_string = ''.join(output_string)\n",
    "    output_string = latin_to_persian(output_string)\n",
    "    return output_string"
   ]
  },
  {
   "cell_type": "markdown",
   "id": "assumed-atmosphere",
   "metadata": {},
   "source": [
    "### 3.3.2. Letters"
   ]
  },
  {
   "cell_type": "code",
   "execution_count": 14,
   "id": "alternate-williams",
   "metadata": {},
   "outputs": [],
   "source": [
    "inference_letters = {'alef': 'ا',\n",
    " 'be': 'ب',\n",
    " 'pe': 'پ',\n",
    " 'te': 'ت',\n",
    " 'the': 'ث',\n",
    " 'jim': 'ج',\n",
    " 'che': 'چ',\n",
    " 'he': 'ح',\n",
    " 'khe': 'خ',\n",
    " 'dal': 'د',\n",
    " 'zal': 'ذ',\n",
    " 're': 'ر',\n",
    " 'ze': 'ز',\n",
    " 'zhe': 'ژ',\n",
    " 'sin': 'س',\n",
    " 'shin': 'ش',\n",
    " 'sad': 'ص',\n",
    " 'zad': 'ض',\n",
    " 'ta': 'ط',\n",
    " 'za': 'ظ',\n",
    " 'ein': 'ع',\n",
    " 'qein': 'غ',\n",
    " 'fe': 'ف',\n",
    " 'quf': 'ق',\n",
    " 'kaf': 'ک',\n",
    " 'gaf': 'گ',\n",
    " 'lam': 'ل',\n",
    " 'mim': 'م',\n",
    " 'nun': 'ن',\n",
    " 'vav': 'و',\n",
    " 'he_docheshm': 'ه',\n",
    " 'ye': 'ی'}"
   ]
  },
  {
   "cell_type": "code",
   "execution_count": 16,
   "id": "concerned-elite",
   "metadata": {},
   "outputs": [],
   "source": [
    "def extract_letters(result):\n",
    "    df = result.pandas().xyxy[0]\n",
    "    df = df.sort_values('xmin')\n",
    "    \n",
    "    letters = []\n",
    "    \n",
    "    for confidence, name in zip(df['confidence'], df['name']):\n",
    "        if confidence > 0.9:\n",
    "            letters.append(inference_letters[name])\n",
    "            \n",
    "    letters = [letter for letter in reversed(letters)]\n",
    "            \n",
    "    return ''.join(letters)"
   ]
  },
  {
   "cell_type": "markdown",
   "id": "incoming-spectacular",
   "metadata": {},
   "source": [
    "## 3.4. Load models"
   ]
  },
  {
   "cell_type": "code",
   "execution_count": 17,
   "id": "suited-marina",
   "metadata": {},
   "outputs": [
    {
     "name": "stderr",
     "output_type": "stream",
     "text": [
      "Downloading: \"https://github.com/ultralytics/yolov5/archive/master.zip\" to /Users/prp-e/.cache/torch/hub/master.zip\n",
      "YOLOv5 🚀 2022-6-23 Python-3.8.6 torch-1.10.0 CPU\n",
      "\n",
      "Fusing layers... \n",
      "Model summary: 290 layers, 20978205 parameters, 0 gradients, 48.3 GFLOPs\n",
      "Adding AutoShape... \n"
     ]
    }
   ],
   "source": [
    "letter_model = model = torch.hub.load('ultralytics/yolov5', 'custom', path='models/letters.pt', force_reload=True)"
   ]
  },
  {
   "cell_type": "code",
   "execution_count": 18,
   "id": "equal-lunch",
   "metadata": {},
   "outputs": [
    {
     "name": "stderr",
     "output_type": "stream",
     "text": [
      "Downloading: \"https://github.com/ultralytics/yolov5/archive/master.zip\" to /Users/prp-e/.cache/torch/hub/master.zip\n",
      "YOLOv5 🚀 2022-6-23 Python-3.8.6 torch-1.10.0 CPU\n",
      "\n",
      "Fusing layers... \n",
      "Model summary: 290 layers, 20889303 parameters, 0 gradients, 48.1 GFLOPs\n",
      "Adding AutoShape... \n"
     ]
    }
   ],
   "source": [
    "number_model = letter_model = model = torch.hub.load('ultralytics/yolov5', 'custom', path='models/numbers.pt', force_reload=True)"
   ]
  },
  {
   "cell_type": "markdown",
   "id": "thousand-silly",
   "metadata": {},
   "source": [
    "## 3.5. Importing samples from the repository"
   ]
  },
  {
   "cell_type": "markdown",
   "id": "behind-israeli",
   "metadata": {},
   "source": [
    "_NOTE_: You simply can add your own desired images here. We've just used an inference picture to demonstrate how it works."
   ]
  },
  {
   "cell_type": "code",
   "execution_count": 19,
   "id": "continued-enclosure",
   "metadata": {},
   "outputs": [],
   "source": [
    "numbers_image = cv2.imread('number_inference.png')"
   ]
  },
  {
   "cell_type": "code",
   "execution_count": 20,
   "id": "coordinate-white",
   "metadata": {},
   "outputs": [
    {
     "data": {
      "text/plain": [
       "<matplotlib.image.AxesImage at 0x7fc596fe3490>"
      ]
     },
     "execution_count": 20,
     "metadata": {},
     "output_type": "execute_result"
    },
    {
     "data": {
      "image/png": "[encoded data removed]",
      "text/plain": [
       "<Figure size 432x288 with 1 Axes>"
      ]
     },
     "metadata": {
      "needs_background": "light"
     },
     "output_type": "display_data"
    }
   ],
   "source": [
    "%matplotlib inline\n",
    "\n",
    "plt.imshow(numbers_image)"
   ]
  },
  {
   "cell_type": "code",
   "execution_count": null,
   "id": "decreased-somewhere",
   "metadata": {},
   "outputs": [],
   "source": []
  }
 ],
 "metadata": {
  "kernelspec": {
   "display_name": "Python 3",
   "language": "python",
   "name": "python3"
  },
  "language_info": {
   "codemirror_mode": {
    "name": "ipython",
    "version": 3
   },
   "file_extension": ".py",
   "mimetype": "text/x-python",
   "name": "python",
   "nbconvert_exporter": "python",
   "pygments_lexer": "ipython3",
   "version": "3.8.6"
  }
 },
 "nbformat": 4,
 "nbformat_minor": 5
}
