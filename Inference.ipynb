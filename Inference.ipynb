{
 "cells": [
  {
   "cell_type": "markdown",
   "id": "integral-special",
   "metadata": {},
   "source": [
    "# 1. PyTorch Installation"
   ]
  },
  {
   "cell_type": "markdown",
   "id": "transsexual-tennis",
   "metadata": {},
   "source": [
    "_NOTE_: If you run this notebook on Google Colab or any similar services, there's a possibility that they might have `pytorch` package installed. But if it's on a local machine, run the following cells (depends on what type of machine you have)"
   ]
  },
  {
   "cell_type": "markdown",
   "id": "guided-colorado",
   "metadata": {},
   "source": [
    "## 1.1. CPU"
   ]
  },
  {
   "cell_type": "code",
   "execution_count": null,
   "id": "ordered-venue",
   "metadata": {},
   "outputs": [],
   "source": [
    "!pip3 install torch torchvision torchaudio --extra-index-url https://download.pytorch.org/whl/cpu\n"
   ]
  },
  {
   "cell_type": "markdown",
   "id": "nominated-delay",
   "metadata": {},
   "source": [
    "## 1.2. GPU (an alternative to 1.1, if you have a high-end NVIDIA GPU with support of CUDA)"
   ]
  },
  {
   "cell_type": "code",
   "execution_count": null,
   "id": "inner-pride",
   "metadata": {},
   "outputs": [],
   "source": [
    "!pip3 install torch torchvision torchaudio --extra-index-url https://download.pytorch.org/whl/cu113"
   ]
  },
  {
   "cell_type": "markdown",
   "id": "comic-currency",
   "metadata": {},
   "source": [
    "# 2. Checking for models and downloading them"
   ]
  },
  {
   "cell_type": "markdown",
   "id": "honey-conservative",
   "metadata": {},
   "source": [
    "_NOTE_: If you have downloaded the models from our [repository], then just create a folder called `models` and put your model files inside it. Otherwise, run the following cells"
   ]
  },
  {
   "cell_type": "code",
   "execution_count": 8,
   "id": "bearing-partner",
   "metadata": {},
   "outputs": [
    {
     "name": "stdout",
     "output_type": "stream",
     "text": [
      "Models are there, where are you?\n"
     ]
    }
   ],
   "source": [
    "import os\n",
    "\n",
    "if 'models' in os.listdir():\n",
    "    if os.listdir('models'):\n",
    "        print('Models are there, where are you?')\n",
    "    else:\n",
    "        !cd models && wget https://persianocr.cam/models/letters.pt\n",
    "        !cd models && wget https://persianocr.cam/models/numbers.pt\n",
    "else:\n",
    "    os.mkdir('models')\n",
    "    !cd models && wget https://persianocr.cam/models/letters.pt\n",
    "    !cd models && wget https://persianocr.cam/models/numbers.pt"
   ]
  },
  {
   "cell_type": "markdown",
   "id": "monthly-scanner",
   "metadata": {},
   "source": [
    "# 3. Loading the models for inference and testing"
   ]
  },
  {
   "cell_type": "markdown",
   "id": "warming-point",
   "metadata": {},
   "source": [
    "## 3.1. Importing libraries"
   ]
  },
  {
   "cell_type": "code",
   "execution_count": 9,
   "id": "defensive-horizon",
   "metadata": {},
   "outputs": [],
   "source": [
    "import cv2\n",
    "import numpy as np\n",
    "import matplotlib.pyplot as plt\n",
    "import pandas as pd\n",
    "import torch"
   ]
  },
  {
   "cell_type": "markdown",
   "id": "coupled-paris",
   "metadata": {},
   "source": [
    "## 3.2. Resolving SSL problem (Optional and Occasional)"
   ]
  },
  {
   "cell_type": "markdown",
   "id": "fitting-sitting",
   "metadata": {},
   "source": [
    "Only run this cell if:\n",
    "\n",
    "1. You're on a Mac. Most of macOS users got errors regarding SSL problems (so did I)\n",
    "2. You get SSL related errors in other OSs. \n",
    "\n",
    "If you're on Colab or similar services, you obviously don't need this cell."
   ]
  },
  {
   "cell_type": "code",
   "execution_count": 10,
   "id": "arbitrary-mobile",
   "metadata": {},
   "outputs": [],
   "source": [
    "import ssl\n",
    "\n",
    "try:\n",
    "    _create_unverified_https_context = ssl._create_unverified_context\n",
    "except AttributeError:\n",
    "    pass\n",
    "else:\n",
    "    ssl._create_default_https_context = _create_unverified_https_context"
   ]
  },
  {
   "cell_type": "markdown",
   "id": "wrong-dominican",
   "metadata": {},
   "source": [
    "## 3.3. Functions for text extraction"
   ]
  },
  {
   "cell_type": "markdown",
   "id": "literary-jefferson",
   "metadata": {},
   "source": [
    "### 3.3.1. Numbers"
   ]
  },
  {
   "cell_type": "code",
   "execution_count": 11,
   "id": "revised-conversation",
   "metadata": {},
   "outputs": [],
   "source": [
    "_translator = str.maketrans(\"1234567890\", \"۱۲۳۴۵۶۷۸۹۰\")"
   ]
  },
  {
   "cell_type": "code",
   "execution_count": 12,
   "id": "alpine-german",
   "metadata": {},
   "outputs": [],
   "source": [
    "def latin_to_persian(number):\n",
    "    return number.translate(_translator)"
   ]
  },
  {
   "cell_type": "code",
   "execution_count": 13,
   "id": "guided-arbitration",
   "metadata": {},
   "outputs": [],
   "source": [
    "def extract_chars(result):\n",
    "    df = result.pandas().xyxy[0] # because we only need the first one\n",
    "    df = df.sort_values('xmin') # sorts them write to left'\n",
    "    \n",
    "    output_string = []\n",
    "    for name, confidence in zip(df['name'], df['confidence']):\n",
    "        if confidence > 0.8:\n",
    "            output_string.append(name)\n",
    "            \n",
    "    output_string = ''.join(output_string)\n",
    "    output_string = latin_to_persian(output_string)\n",
    "    return output_string"
   ]
  },
  {
   "cell_type": "markdown",
   "id": "reverse-drawing",
   "metadata": {},
   "source": [
    "### 3.3.2. Letters"
   ]
  },
  {
   "cell_type": "code",
   "execution_count": 14,
   "id": "pharmaceutical-material",
   "metadata": {},
   "outputs": [],
   "source": [
    "inference_letters = {'alef': 'ا',\n",
    " 'be': 'ب',\n",
    " 'pe': 'پ',\n",
    " 'te': 'ت',\n",
    " 'the': 'ث',\n",
    " 'jim': 'ج',\n",
    " 'che': 'چ',\n",
    " 'he': 'ح',\n",
    " 'khe': 'خ',\n",
    " 'dal': 'د',\n",
    " 'zal': 'ذ',\n",
    " 're': 'ر',\n",
    " 'ze': 'ز',\n",
    " 'zhe': 'ژ',\n",
    " 'sin': 'س',\n",
    " 'shin': 'ش',\n",
    " 'sad': 'ص',\n",
    " 'zad': 'ض',\n",
    " 'ta': 'ط',\n",
    " 'za': 'ظ',\n",
    " 'ein': 'ع',\n",
    " 'qein': 'غ',\n",
    " 'fe': 'ف',\n",
    " 'quf': 'ق',\n",
    " 'kaf': 'ک',\n",
    " 'gaf': 'گ',\n",
    " 'lam': 'ل',\n",
    " 'mim': 'م',\n",
    " 'nun': 'ن',\n",
    " 'vav': 'و',\n",
    " 'he_docheshm': 'ه',\n",
    " 'ye': 'ی'}"
   ]
  },
  {
   "cell_type": "code",
   "execution_count": 16,
   "id": "lucky-teacher",
   "metadata": {},
   "outputs": [],
   "source": [
    "def extract_letters(result):\n",
    "    df = result.pandas().xyxy[0]\n",
    "    df = df.sort_values('xmin')\n",
    "    \n",
    "    letters = []\n",
    "    \n",
    "    for confidence, name in zip(df['confidence'], df['name']):\n",
    "        if confidence > 0.9:\n",
    "            letters.append(inference_letters[name])\n",
    "            \n",
    "    letters = [letter for letter in reversed(letters)]\n",
    "            \n",
    "    return ''.join(letters)"
   ]
  },
  {
   "cell_type": "markdown",
   "id": "instant-literature",
   "metadata": {},
   "source": [
    "## 3.4. Load models"
   ]
  },
  {
   "cell_type": "code",
   "execution_count": 27,
   "id": "rational-bahrain",
   "metadata": {},
   "outputs": [
    {
     "name": "stderr",
     "output_type": "stream",
     "text": [
      "Downloading: \"https://github.com/ultralytics/yolov5/archive/master.zip\" to /Users/prp-e/.cache/torch/hub/master.zip\n",
      "YOLOv5 🚀 2022-6-23 Python-3.8.6 torch-1.10.0 CPU\n",
      "\n",
      "Fusing layers... \n",
      "Model summary: 290 layers, 20978205 parameters, 0 gradients, 48.3 GFLOPs\n",
      "Adding AutoShape... \n"
     ]
    }
   ],
   "source": [
    "letter_model = model = torch.hub.load('ultralytics/yolov5', 'custom', path='models/letters.pt', force_reload=True)"
   ]
  },
  {
   "cell_type": "code",
   "execution_count": 18,
   "id": "clinical-quality",
   "metadata": {},
   "outputs": [
    {
     "name": "stderr",
     "output_type": "stream",
     "text": [
      "Downloading: \"https://github.com/ultralytics/yolov5/archive/master.zip\" to /Users/prp-e/.cache/torch/hub/master.zip\n",
      "YOLOv5 🚀 2022-6-23 Python-3.8.6 torch-1.10.0 CPU\n",
      "\n",
      "Fusing layers... \n",
      "Model summary: 290 layers, 20889303 parameters, 0 gradients, 48.1 GFLOPs\n",
      "Adding AutoShape... \n"
     ]
    }
   ],
   "source": [
    "number_model = letter_model = model = torch.hub.load('ultralytics/yolov5', 'custom', path='models/numbers.pt', force_reload=True)"
   ]
  },
  {
   "cell_type": "markdown",
   "id": "marked-cleaner",
   "metadata": {},
   "source": [
    "## 3.5. Importing samples from the repository"
   ]
  },
  {
   "cell_type": "markdown",
   "id": "infectious-replication",
   "metadata": {},
   "source": [
    "_NOTE_: You simply can add your own desired images here. We've just used an inference picture to demonstrate how it works."
   ]
  },
  {
   "cell_type": "code",
   "execution_count": 19,
   "id": "geographic-labor",
   "metadata": {},
   "outputs": [],
   "source": [
    "numbers_image = cv2.imread('number_inference.png')"
   ]
  },
  {
   "cell_type": "code",
   "execution_count": 20,
   "id": "focal-writing",
   "metadata": {},
   "outputs": [
    {
     "data": {
      "text/plain": [
       "<matplotlib.image.AxesImage at 0x7fc596fe3490>"
      ]
     },
     "execution_count": 20,
     "metadata": {},
     "output_type": "execute_result"
    },
    {
     "data": {
      "image/png": "[encoded data removed]",
      "text/plain": [
       "<Figure size 432x288 with 1 Axes>"
      ]
     },
     "metadata": {
      "needs_background": "light"
     },
     "output_type": "display_data"
    }
   ],
   "source": [
    "%matplotlib inline\n",
    "\n",
    "plt.imshow(numbers_image)"
   ]
  },
  {
   "cell_type": "code",
   "execution_count": 21,
   "id": "fourth-narrow",
   "metadata": {},
   "outputs": [],
   "source": [
    "letters_image = cv2.imread('letter_inference_2.png')"
   ]
  },
  {
   "cell_type": "code",
   "execution_count": 22,
   "id": "uniform-video",
   "metadata": {},
   "outputs": [
    {
     "data": {
      "text/plain": [
       "<matplotlib.image.AxesImage at 0x7fc59563e400>"
      ]
     },
     "execution_count": 22,
     "metadata": {},
     "output_type": "execute_result"
    },
    {
     "data": {
      "image/png": "[encoded data removed]",
      "text/plain": [
       "<Figure size 432x288 with 1 Axes>"
      ]
     },
     "metadata": {
      "needs_background": "light"
     },
     "output_type": "display_data"
    }
   ],
   "source": [
    "%matplotlib inline\n",
    "\n",
    "plt.imshow(letters_image)"
   ]
  },
  {
   "cell_type": "markdown",
   "id": "wrong-halloween",
   "metadata": {},
   "source": [
    "## 3.6. Run the inference"
   ]
  },
  {
   "cell_type": "code",
   "execution_count": 28,
   "id": "every-spell",
   "metadata": {},
   "outputs": [],
   "source": [
    "numbers_result = number_model(numbers_image)\n",
    "letter_result = letter_model(letters_image)"
   ]
  },
  {
   "cell_type": "code",
   "execution_count": 29,
   "id": "acquired-validation",
   "metadata": {},
   "outputs": [
    {
     "data": {
      "text/plain": [
       "'۴۸۰۳۳۲۵۶۱۲'"
      ]
     },
     "execution_count": 29,
     "metadata": {},
     "output_type": "execute_result"
    }
   ],
   "source": [
    "extract_chars(numbers_result)"
   ]
  },
  {
   "cell_type": "code",
   "execution_count": 31,
   "id": "impaired-deficit",
   "metadata": {},
   "outputs": [
    {
     "data": {
      "text/plain": [
       "'متاثر'"
      ]
     },
     "execution_count": 31,
     "metadata": {},
     "output_type": "execute_result"
    }
   ],
   "source": [
    "extract_letters(letter_result)"
   ]
  },
  {
   "cell_type": "markdown",
   "id": "imported-short",
   "metadata": {},
   "source": [
    "# Final Thoughts"
   ]
  },
  {
   "cell_type": "markdown",
   "id": "korean-progressive",
   "metadata": {},
   "source": [
    "This notebook is just a tool to put what we've done to the test. It's not official release of the tool yet and we're going to work on some other tools including:\n",
    "\n",
    "1. A CLI tool (similar to _tesseract_)\n",
    "2. A web service\n",
    "3. A python library for developers\n",
    "\n",
    "And of course there'll be changes in pretty much everything you've seen in the repo. We're trying to improve the product for good."
   ]
  }
 ],
 "metadata": {
  "kernelspec": {
   "display_name": "Python 3",
   "language": "python",
   "name": "python3"
  },
  "language_info": {
   "codemirror_mode": {
    "name": "ipython",
    "version": 3
   },
   "file_extension": ".py",
   "mimetype": "text/x-python",
   "name": "python",
   "nbconvert_exporter": "python",
   "pygments_lexer": "ipython3",
   "version": "3.8.6"
  }
 },
 "nbformat": 4,
 "nbformat_minor": 5
}
