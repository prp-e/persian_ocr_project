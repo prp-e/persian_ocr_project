{
 "cells": [
  {
   "cell_type": "markdown",
   "id": "powered-aberdeen",
   "metadata": {},
   "source": [
    "# 1. PyTorch Installation"
   ]
  },
  {
   "cell_type": "markdown",
   "id": "peripheral-humidity",
   "metadata": {},
   "source": [
    "_NOTE_: If you run this notebook on Google Colab or any similar services, there's a possibility that they might have `pytorch` package installed. But if it's on a local machine, run the following cells (depends on what type of machine you have)"
   ]
  },
  {
   "cell_type": "markdown",
   "id": "animated-constant",
   "metadata": {},
   "source": [
    "## 1.1. CPU"
   ]
  },
  {
   "cell_type": "code",
   "execution_count": null,
   "id": "alien-recycling",
   "metadata": {},
   "outputs": [],
   "source": [
    "!pip3 install torch torchvision torchaudio --extra-index-url https://download.pytorch.org/whl/cpu\n"
   ]
  },
  {
   "cell_type": "markdown",
   "id": "continental-broadcasting",
   "metadata": {},
   "source": [
    "## 1.2. GPU (an alternative to 1.1, if you have a high-end NVIDIA GPU with support of CUDA)"
   ]
  },
  {
   "cell_type": "code",
   "execution_count": null,
   "id": "bored-jaguar",
   "metadata": {},
   "outputs": [],
   "source": [
    "!pip3 install torch torchvision torchaudio --extra-index-url https://download.pytorch.org/whl/cu113"
   ]
  },
  {
   "cell_type": "markdown",
   "id": "brilliant-trail",
   "metadata": {},
   "source": [
    "# 2. Checking for models and downloading them"
   ]
  },
  {
   "cell_type": "markdown",
   "id": "complete-argentina",
   "metadata": {},
   "source": [
    "_NOTE_: If you have downloaded the models from our [repository], then just create a folder called `models` and put your model files inside it. Otherwise, run the following cells"
   ]
  },
  {
   "cell_type": "code",
   "execution_count": 2,
   "id": "powered-pottery",
   "metadata": {},
   "outputs": [
    {
     "name": "stdout",
     "output_type": "stream",
     "text": [
      "bango\n"
     ]
    }
   ],
   "source": [
    "import os\n",
    "\n",
    "if 'models' in os.listdir():\n",
    "    print('bingo')\n",
    "else:\n",
    "    print('bango')"
   ]
  },
  {
   "cell_type": "code",
   "execution_count": null,
   "id": "voluntary-advocate",
   "metadata": {},
   "outputs": [],
   "source": []
  }
 ],
 "metadata": {
  "kernelspec": {
   "display_name": "Python 3",
   "language": "python",
   "name": "python3"
  },
  "language_info": {
   "codemirror_mode": {
    "name": "ipython",
    "version": 3
   },
   "file_extension": ".py",
   "mimetype": "text/x-python",
   "name": "python",
   "nbconvert_exporter": "python",
   "pygments_lexer": "ipython3",
   "version": "3.8.6"
  }
 },
 "nbformat": 4,
 "nbformat_minor": 5
}
