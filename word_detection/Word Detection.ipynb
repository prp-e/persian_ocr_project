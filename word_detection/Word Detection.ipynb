{
 "cells": [
  {
   "cell_type": "markdown",
   "id": "classified-management",
   "metadata": {},
   "source": [
    "# Word Detection Models"
   ]
  },
  {
   "cell_type": "markdown",
   "id": "fitted-catering",
   "metadata": {},
   "source": [
    "# 1. PDF Pre-processing"
   ]
  },
  {
   "cell_type": "markdown",
   "id": "vital-cinema",
   "metadata": {},
   "source": [
    "# 1.1. Working on converting pdfs to images"
   ]
  },
  {
   "cell_type": "code",
   "execution_count": 1,
   "id": "enormous-alexandria",
   "metadata": {},
   "outputs": [],
   "source": [
    "import cv2\n",
    "import pdf2image\n",
    "from matplotlib import pyplot as plt"
   ]
  },
  {
   "cell_type": "code",
   "execution_count": null,
   "id": "outdoor-switzerland",
   "metadata": {},
   "outputs": [],
   "source": []
  }
 ],
 "metadata": {
  "kernelspec": {
   "display_name": "Python 3",
   "language": "python",
   "name": "python3"
  },
  "language_info": {
   "codemirror_mode": {
    "name": "ipython",
    "version": 3
   },
   "file_extension": ".py",
   "mimetype": "text/x-python",
   "name": "python",
   "nbconvert_exporter": "python",
   "pygments_lexer": "ipython3",
   "version": "3.8.6"
  }
 },
 "nbformat": 4,
 "nbformat_minor": 5
}
