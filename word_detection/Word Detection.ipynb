{
 "cells": [
  {
   "cell_type": "markdown",
   "id": "coordinate-crown",
   "metadata": {},
   "source": [
    "# Word Detection Models"
   ]
  },
  {
   "cell_type": "markdown",
   "id": "rational-journalist",
   "metadata": {},
   "source": [
    "# 1. PDF Pre-processing"
   ]
  },
  {
   "cell_type": "markdown",
   "id": "nonprofit-saskatchewan",
   "metadata": {},
   "source": [
    "# 1.1. Working on converting pdfs to images"
   ]
  },
  {
   "cell_type": "code",
   "execution_count": 1,
   "id": "adequate-budapest",
   "metadata": {},
   "outputs": [],
   "source": [
    "import cv2\n",
    "import pdf2image\n",
    "from matplotlib import pyplot as plt"
   ]
  },
  {
   "cell_type": "code",
   "execution_count": 2,
   "id": "empirical-stewart",
   "metadata": {},
   "outputs": [],
   "source": [
    "import os\n",
    "\n",
    "pdfs = os.listdir('pdfs')"
   ]
  },
  {
   "cell_type": "code",
   "execution_count": 3,
   "id": "latest-stylus",
   "metadata": {},
   "outputs": [
    {
     "data": {
      "text/plain": [
       "['gosast e_fasle-1.pdf', '.file', 'ubuntu-book.pdf', 'justforfun_persian.pdf']"
      ]
     },
     "execution_count": 3,
     "metadata": {},
     "output_type": "execute_result"
    }
   ],
   "source": [
    "pdfs"
   ]
  },
  {
   "cell_type": "markdown",
   "id": "positive-supplement",
   "metadata": {},
   "source": [
    "## 1.2. Making an array of images from PDF files"
   ]
  },
  {
   "cell_type": "markdown",
   "id": "neither-lancaster",
   "metadata": {},
   "source": [
    "If you get any errors at this post, please make sure `poppler` is installed on your computer."
   ]
  },
  {
   "cell_type": "code",
   "execution_count": 8,
   "id": "potential-gentleman",
   "metadata": {},
   "outputs": [
    {
     "name": "stdout",
     "output_type": "stream",
     "text": [
      "Unable to get page count.\n",
      "Syntax Error: Document stream is empty\n",
      "\n"
     ]
    }
   ],
   "source": [
    "from pdf2image import convert_from_path\n",
    "\n",
    "images = []\n",
    "\n",
    "for pdf in pdfs:\n",
    "    try:\n",
    "        pages = convert_from_path(f'pdfs/{pdf}')\n",
    "        images.extend(pages)\n",
    "    except Exception as e:\n",
    "        print(e)"
   ]
  },
  {
   "cell_type": "markdown",
   "id": "seasonal-flesh",
   "metadata": {},
   "source": [
    "## 1.3. Converting PIL images to numpy arrays"
   ]
  },
  {
   "cell_type": "markdown",
   "id": "determined-maria",
   "metadata": {},
   "source": [
    "This is because we need CV2 images for lighter and fa"
   ]
  },
  {
   "cell_type": "code",
   "execution_count": 11,
   "id": "governmental-programming",
   "metadata": {},
   "outputs": [],
   "source": [
    "import numpy as np"
   ]
  },
  {
   "cell_type": "code",
   "execution_count": 12,
   "id": "molecular-jackson",
   "metadata": {},
   "outputs": [],
   "source": [
    "cv_images = []\n",
    "\n",
    "for image in images:\n",
    "    cv_images.append(np.array(image))"
   ]
  },
  {
   "cell_type": "code",
   "execution_count": null,
   "id": "alleged-traffic",
   "metadata": {},
   "outputs": [],
   "source": []
  }
 ],
 "metadata": {
  "kernelspec": {
   "display_name": "Python 3",
   "language": "python",
   "name": "python3"
  },
  "language_info": {
   "codemirror_mode": {
    "name": "ipython",
    "version": 3
   },
   "file_extension": ".py",
   "mimetype": "text/x-python",
   "name": "python",
   "nbconvert_exporter": "python",
   "pygments_lexer": "ipython3",
   "version": "3.8.6"
  }
 },
 "nbformat": 4,
 "nbformat_minor": 5
}
