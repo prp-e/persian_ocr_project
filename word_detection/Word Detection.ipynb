{
 "cells": [
  {
   "cell_type": "markdown",
   "id": "incredible-voltage",
   "metadata": {},
   "source": [
    "# Word Detection Models"
   ]
  },
  {
   "cell_type": "markdown",
   "id": "collected-expert",
   "metadata": {},
   "source": [
    "# 1. PDF Pre-processing"
   ]
  },
  {
   "cell_type": "markdown",
   "id": "annual-farming",
   "metadata": {},
   "source": [
    "# 1.1. Working on converting pdfs to images"
   ]
  },
  {
   "cell_type": "code",
   "execution_count": 1,
   "id": "brazilian-explanation",
   "metadata": {},
   "outputs": [],
   "source": [
    "import cv2\n",
    "import pdf2image\n",
    "from matplotlib import pyplot as plt"
   ]
  },
  {
   "cell_type": "code",
   "execution_count": 2,
   "id": "signed-taylor",
   "metadata": {},
   "outputs": [],
   "source": [
    "import os\n",
    "\n",
    "pdfs = os.listdir('pdfs')"
   ]
  },
  {
   "cell_type": "code",
   "execution_count": 3,
   "id": "third-width",
   "metadata": {},
   "outputs": [
    {
     "data": {
      "text/plain": [
       "['gosast e_fasle-1.pdf', '.file', 'ubuntu-book.pdf', 'justforfun_persian.pdf']"
      ]
     },
     "execution_count": 3,
     "metadata": {},
     "output_type": "execute_result"
    }
   ],
   "source": [
    "pdfs"
   ]
  },
  {
   "cell_type": "markdown",
   "id": "fitted-jacket",
   "metadata": {},
   "source": [
    "## 1.2. Making an array of images from PDF files"
   ]
  },
  {
   "cell_type": "code",
   "execution_count": 7,
   "id": "thousand-contact",
   "metadata": {},
   "outputs": [
    {
     "ename": "IndentationError",
     "evalue": "expected an indented block (<ipython-input-7-b6639b0f9525>, line 7)",
     "output_type": "error",
     "traceback": [
      "\u001b[0;36m  File \u001b[0;32m\"<ipython-input-7-b6639b0f9525>\"\u001b[0;36m, line \u001b[0;32m7\u001b[0m\n\u001b[0;31m    pages = convert_from_path(f'pdfs/{pdf}')\u001b[0m\n\u001b[0m    ^\u001b[0m\n\u001b[0;31mIndentationError\u001b[0m\u001b[0;31m:\u001b[0m expected an indented block\n"
     ]
    }
   ],
   "source": [
    "from pdf2image import convert_from_path\n",
    "\n",
    "images = []\n",
    "\n",
    "for pdf in pdfs:\n",
    "    try:\n",
    "    pages = convert_from_path(f'pdfs/{pdf}')\n",
    "    images.extend(pages)\n",
    "    except Exception as e:\n",
    "        print(e)"
   ]
  },
  {
   "cell_type": "code",
   "execution_count": null,
   "id": "reverse-senate",
   "metadata": {},
   "outputs": [],
   "source": []
  }
 ],
 "metadata": {
  "kernelspec": {
   "display_name": "Python 3",
   "language": "python",
   "name": "python3"
  },
  "language_info": {
   "codemirror_mode": {
    "name": "ipython",
    "version": 3
   },
   "file_extension": ".py",
   "mimetype": "text/x-python",
   "name": "python",
   "nbconvert_exporter": "python",
   "pygments_lexer": "ipython3",
   "version": "3.8.6"
  }
 },
 "nbformat": 4,
 "nbformat_minor": 5
}
