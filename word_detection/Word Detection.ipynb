{
 "cells": [
  {
   "cell_type": "markdown",
   "id": "sharp-astrology",
   "metadata": {},
   "source": [
    "# Word Detection Models"
   ]
  },
  {
   "cell_type": "markdown",
   "id": "contained-investigation",
   "metadata": {},
   "source": [
    "# 1. PDF Pre-processing"
   ]
  },
  {
   "cell_type": "markdown",
   "id": "political-electronics",
   "metadata": {},
   "source": [
    "# 1.1. Working on converting pdfs to images"
   ]
  },
  {
   "cell_type": "code",
   "execution_count": 1,
   "id": "dramatic-sister",
   "metadata": {},
   "outputs": [],
   "source": [
    "import cv2\n",
    "import pdf2image\n",
    "from matplotlib import pyplot as plt"
   ]
  },
  {
   "cell_type": "code",
   "execution_count": 2,
   "id": "gross-pricing",
   "metadata": {},
   "outputs": [],
   "source": [
    "import os\n",
    "\n",
    "pdfs = os.listdir('pdfs')"
   ]
  },
  {
   "cell_type": "code",
   "execution_count": 3,
   "id": "dated-tanzania",
   "metadata": {},
   "outputs": [
    {
     "data": {
      "text/plain": [
       "['gosast e_fasle-1.pdf', '.file', 'ubuntu-book.pdf', 'justforfun_persian.pdf']"
      ]
     },
     "execution_count": 3,
     "metadata": {},
     "output_type": "execute_result"
    }
   ],
   "source": [
    "pdfs"
   ]
  },
  {
   "cell_type": "markdown",
   "id": "smart-cosmetic",
   "metadata": {},
   "source": [
    "## 1.2. Making an array of images from PDF files"
   ]
  },
  {
   "cell_type": "markdown",
   "id": "initial-theta",
   "metadata": {},
   "source": [
    "If you get any errors at this post, please make sure `poppler` is installed on your computer."
   ]
  },
  {
   "cell_type": "code",
   "execution_count": 8,
   "id": "matched-musician",
   "metadata": {},
   "outputs": [
    {
     "name": "stdout",
     "output_type": "stream",
     "text": [
      "Unable to get page count.\n",
      "Syntax Error: Document stream is empty\n",
      "\n"
     ]
    }
   ],
   "source": [
    "from pdf2image import convert_from_path\n",
    "\n",
    "images = []\n",
    "\n",
    "for pdf in pdfs:\n",
    "    try:\n",
    "        pages = convert_from_path(f'pdfs/{pdf}')\n",
    "        images.extend(pages)\n",
    "    except Exception as e:\n",
    "        print(e)"
   ]
  },
  {
   "cell_type": "markdown",
   "id": "first-vitamin",
   "metadata": {},
   "source": [
    "## 1.3. Converting PIL images to numpy arrays"
   ]
  },
  {
   "cell_type": "markdown",
   "id": "fitting-treasure",
   "metadata": {},
   "source": [
    "This is because we need CV2 images for lighter and faster inference. "
   ]
  },
  {
   "cell_type": "code",
   "execution_count": 11,
   "id": "threatened-insurance",
   "metadata": {},
   "outputs": [],
   "source": [
    "import numpy as np"
   ]
  },
  {
   "cell_type": "code",
   "execution_count": 12,
   "id": "killing-keyboard",
   "metadata": {},
   "outputs": [],
   "source": [
    "cv_images = []\n",
    "\n",
    "for image in images:\n",
    "    cv_images.append(np.array(image))"
   ]
  },
  {
   "cell_type": "code",
   "execution_count": 16,
   "id": "pleasant-clock",
   "metadata": {},
   "outputs": [
    {
     "data": {
      "text/plain": [
       "<matplotlib.image.AxesImage at 0x7f90c5901850>"
      ]
     },
     "execution_count": 16,
     "metadata": {},
     "output_type": "execute_result"
    },
    {
     "data": {
      "image/png": "[encoded data removed]",
      "text/plain": [
       "<Figure size 432x288 with 1 Axes>"
      ]
     },
     "metadata": {
      "needs_background": "light"
     },
     "output_type": "display_data"
    }
   ],
   "source": [
    "%matplotlib inline\n",
    "\n",
    "plt.imshow(cv_images[3])"
   ]
  },
  {
   "cell_type": "markdown",
   "id": "adjusted-cleaners",
   "metadata": {},
   "source": [
    "## 1.4. Saving images in desired format (with some randomization)"
   ]
  },
  {
   "cell_type": "code",
   "execution_count": null,
   "id": "steady-reliance",
   "metadata": {},
   "outputs": [],
   "source": []
  }
 ],
 "metadata": {
  "kernelspec": {
   "display_name": "Python 3",
   "language": "python",
   "name": "python3"
  },
  "language_info": {
   "codemirror_mode": {
    "name": "ipython",
    "version": 3
   },
   "file_extension": ".py",
   "mimetype": "text/x-python",
   "name": "python",
   "nbconvert_exporter": "python",
   "pygments_lexer": "ipython3",
   "version": "3.8.6"
  }
 },
 "nbformat": 4,
 "nbformat_minor": 5
}
