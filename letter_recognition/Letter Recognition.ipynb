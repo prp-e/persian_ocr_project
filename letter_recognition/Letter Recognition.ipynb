{
 "cells": [
  {
   "cell_type": "markdown",
   "id": "saving-clock",
   "metadata": {},
   "source": [
    "# Letter Recognition"
   ]
  },
  {
   "cell_type": "markdown",
   "id": "periodic-pavilion",
   "metadata": {},
   "source": [
    "## 1. Import needed libraries"
   ]
  },
  {
   "cell_type": "code",
   "execution_count": 1,
   "id": "north-conclusion",
   "metadata": {},
   "outputs": [],
   "source": [
    "import cv2\n",
    "from matplotlib import pyplot as plt\n",
    "import numpy as np\n",
    "import os"
   ]
  },
  {
   "cell_type": "markdown",
   "id": "negative-estonia",
   "metadata": {},
   "source": [
    "## 2. Directory listings of the images"
   ]
  },
  {
   "cell_type": "markdown",
   "id": "rational-registrar",
   "metadata": {},
   "source": [
    "_NOTE_: This directory must be set from the shell. It requires some _bash scripting_ knowledge and also needs Shotor dataset to be downloaded in your computer."
   ]
  },
  {
   "cell_type": "code",
   "execution_count": 2,
   "id": "expressed-metallic",
   "metadata": {},
   "outputs": [
    {
     "data": {
      "text/plain": [
       "'/Users/prp-e/Downloads/Shotor_Images'"
      ]
     },
     "execution_count": 2,
     "metadata": {},
     "output_type": "execute_result"
    }
   ],
   "source": [
    "os.getenv(\"SHOTOR_IMAGES\")"
   ]
  },
  {
   "cell_type": "code",
   "execution_count": 3,
   "id": "controversial-choir",
   "metadata": {},
   "outputs": [],
   "source": [
    "directory_listing = os.listdir(os.getenv(\"SHOTOR_IMAGES\"))"
   ]
  },
  {
   "cell_type": "markdown",
   "id": "offshore-olympus",
   "metadata": {},
   "source": [
    "## 3. Testing and randomizing the data"
   ]
  },
  {
   "cell_type": "code",
   "execution_count": 5,
   "id": "packed-technician",
   "metadata": {},
   "outputs": [],
   "source": [
    "import random"
   ]
  },
  {
   "cell_type": "code",
   "execution_count": 10,
   "id": "spatial-making",
   "metadata": {},
   "outputs": [
    {
     "data": {
      "text/plain": [
       "'53795.tif'"
      ]
     },
     "execution_count": 10,
     "metadata": {},
     "output_type": "execute_result"
    }
   ],
   "source": [
    "directory_listing[random.randrange(len(directory_listing))]"
   ]
  },
  {
   "cell_type": "markdown",
   "id": "controlled-component",
   "metadata": {},
   "source": [
    "## 3.1. Testing opencv on a random image from Shotor (To make sure tif is supported)"
   ]
  },
  {
   "cell_type": "code",
   "execution_count": 42,
   "id": "still-project",
   "metadata": {},
   "outputs": [],
   "source": [
    "image_path = os.getenv(\"SHOTOR_IMAGES\") + \"/\" + directory_listing[random.randrange(len(directory_listing))]\n",
    "\n",
    "image = cv2.imread(image_path)"
   ]
  },
  {
   "cell_type": "code",
   "execution_count": 43,
   "id": "selective-liberal",
   "metadata": {},
   "outputs": [
    {
     "data": {
      "text/plain": [
       "<matplotlib.image.AxesImage at 0x7fe969e2b0a0>"
      ]
     },
     "execution_count": 43,
     "metadata": {},
     "output_type": "execute_result"
    },
    {
     "data": {
      "image/png": "[encoded data removed]",
      "text/plain": [
       "<Figure size 432x288 with 1 Axes>"
      ]
     },
     "metadata": {
      "needs_background": "light"
     },
     "output_type": "display_data"
    }
   ],
   "source": [
    "%matplotlib inline\n",
    "\n",
    "plt.imshow(image)"
   ]
  },
  {
   "cell_type": "markdown",
   "id": "latest-fairy",
   "metadata": {},
   "source": [
    "## 3.2. Developing a function to select 200 images randomly"
   ]
  },
  {
   "cell_type": "code",
   "execution_count": 50,
   "id": "light-kuwait",
   "metadata": {},
   "outputs": [],
   "source": [
    "def generate_dataset():\n",
    "    output_folder = \"images/\"\n",
    "    \n",
    "    counter = 0\n",
    "    images = []\n",
    "    \n",
    "    while counter < 200:\n",
    "        image_path = os.getenv(\"SHOTOR_IMAGES\") + \"/\" + directory_listing[random.randrange(len(directory_listing))]\n",
    "        image = cv2.imread(image_path)\n",
    "        cv2.imwrite(f'{output_folder}/{counter}.jpg', image)\n",
    "        counter += 1\n",
    "        \n",
    "    return True"
   ]
  },
  {
   "cell_type": "code",
   "execution_count": 51,
   "id": "compliant-salem",
   "metadata": {},
   "outputs": [],
   "source": [
    "images = generate_dataset()"
   ]
  },
  {
   "cell_type": "code",
   "execution_count": 52,
   "id": "tracked-glasgow",
   "metadata": {},
   "outputs": [
    {
     "data": {
      "text/plain": [
       "True"
      ]
     },
     "execution_count": 52,
     "metadata": {},
     "output_type": "execute_result"
    }
   ],
   "source": [
    "images"
   ]
  },
  {
   "cell_type": "markdown",
   "id": "national-annotation",
   "metadata": {},
   "source": [
    "## 4. Testing the sub-dataset we've created"
   ]
  },
  {
   "cell_type": "code",
   "execution_count": 53,
   "id": "satisfactory-commissioner",
   "metadata": {},
   "outputs": [],
   "source": [
    "directory_listing = os.listdir('images')"
   ]
  },
  {
   "cell_type": "code",
   "execution_count": 54,
   "id": "editorial-announcement",
   "metadata": {},
   "outputs": [
    {
     "data": {
      "text/plain": [
       "201"
      ]
     },
     "execution_count": 54,
     "metadata": {},
     "output_type": "execute_result"
    }
   ],
   "source": [
    "len(directory_listing)"
   ]
  },
  {
   "cell_type": "code",
   "execution_count": 55,
   "id": "boolean-september",
   "metadata": {},
   "outputs": [],
   "source": [
    "image = cv2.imread(f'images/{directory_listing[random.randrange(len(directory_listing))]}')"
   ]
  },
  {
   "cell_type": "code",
   "execution_count": 57,
   "id": "powered-intervention",
   "metadata": {},
   "outputs": [
    {
     "data": {
      "text/plain": [
       "<matplotlib.image.AxesImage at 0x7fe968ccf760>"
      ]
     },
     "execution_count": 57,
     "metadata": {},
     "output_type": "execute_result"
    },
    {
     "data": {
      "image/png": "[encoded data removed]",
      "text/plain": [
       "<Figure size 432x288 with 1 Axes>"
      ]
     },
     "metadata": {
      "needs_background": "light"
     },
     "output_type": "display_data"
    }
   ],
   "source": [
    "%matplotlib inline\n",
    "\n",
    "plt.imshow(image)"
   ]
  },
  {
   "cell_type": "markdown",
   "id": "revised-programmer",
   "metadata": {},
   "source": [
    "# 5. Keeping the listing of Persian letters"
   ]
  },
  {
   "cell_type": "code",
   "execution_count": 1,
   "id": "concerned-trust",
   "metadata": {},
   "outputs": [],
   "source": [
    "letters = \"\"\"alef\n",
    "be \n",
    "pe \n",
    "te \n",
    "the \n",
    "jim \n",
    "che \n",
    "he \n",
    "khe \n",
    "dal \n",
    "zal\n",
    "re\n",
    "ze\n",
    "zhe\n",
    "sin\n",
    "shin\n",
    "sad\n",
    "zad\n",
    "ta\n",
    "za\n",
    "ein\n",
    "qein\n",
    "fe\n",
    "quf\n",
    "kaf\n",
    "gaf\n",
    "lam\n",
    "mim \n",
    "nun \n",
    "vav\n",
    "he_docheshm\n",
    "ye\n",
    "\"\"\""
   ]
  },
  {
   "cell_type": "code",
   "execution_count": 2,
   "id": "underlying-religion",
   "metadata": {},
   "outputs": [],
   "source": [
    "letters = letters.split()"
   ]
  },
  {
   "cell_type": "code",
   "execution_count": 3,
   "id": "generic-district",
   "metadata": {},
   "outputs": [
    {
     "data": {
      "text/plain": [
       "['alef',\n",
       " 'be',\n",
       " 'pe',\n",
       " 'te',\n",
       " 'the',\n",
       " 'jim',\n",
       " 'che',\n",
       " 'he',\n",
       " 'khe',\n",
       " 'dal',\n",
       " 'zal',\n",
       " 're',\n",
       " 'ze',\n",
       " 'zhe',\n",
       " 'sin',\n",
       " 'shin',\n",
       " 'sad',\n",
       " 'zad',\n",
       " 'ta',\n",
       " 'za',\n",
       " 'ein',\n",
       " 'qein',\n",
       " 'fe',\n",
       " 'quf',\n",
       " 'kaf',\n",
       " 'gaf',\n",
       " 'lam',\n",
       " 'mim',\n",
       " 'nun',\n",
       " 'vav',\n",
       " 'he_docheshm',\n",
       " 'ye']"
      ]
     },
     "execution_count": 3,
     "metadata": {},
     "output_type": "execute_result"
    }
   ],
   "source": [
    "letters"
   ]
  },
  {
   "cell_type": "code",
   "execution_count": 4,
   "id": "sharing-nigeria",
   "metadata": {},
   "outputs": [],
   "source": [
    "persian_alphabet = \"ابپتثجچحخدذرزژسشصضطظعغفقکگلمنوهی\"\n",
    "persian_alphabet = [char for char in persian_alphabet]"
   ]
  },
  {
   "cell_type": "code",
   "execution_count": 5,
   "id": "black-wings",
   "metadata": {},
   "outputs": [],
   "source": [
    "inference_letters = dict()\n",
    "\n",
    "for letter, p_letter in zip(letters, persian_alphabet):\n",
    "    inference_letters[letter] = p_letter"
   ]
  },
  {
   "cell_type": "code",
   "execution_count": 6,
   "id": "beautiful-geology",
   "metadata": {},
   "outputs": [
    {
     "data": {
      "text/plain": [
       "{'alef': 'ا',\n",
       " 'be': 'ب',\n",
       " 'pe': 'پ',\n",
       " 'te': 'ت',\n",
       " 'the': 'ث',\n",
       " 'jim': 'ج',\n",
       " 'che': 'چ',\n",
       " 'he': 'ح',\n",
       " 'khe': 'خ',\n",
       " 'dal': 'د',\n",
       " 'zal': 'ذ',\n",
       " 're': 'ر',\n",
       " 'ze': 'ز',\n",
       " 'zhe': 'ژ',\n",
       " 'sin': 'س',\n",
       " 'shin': 'ش',\n",
       " 'sad': 'ص',\n",
       " 'zad': 'ض',\n",
       " 'ta': 'ط',\n",
       " 'za': 'ظ',\n",
       " 'ein': 'ع',\n",
       " 'qein': 'غ',\n",
       " 'fe': 'ف',\n",
       " 'quf': 'ق',\n",
       " 'kaf': 'ک',\n",
       " 'gaf': 'گ',\n",
       " 'lam': 'ل',\n",
       " 'mim': 'م',\n",
       " 'nun': 'ن',\n",
       " 'vav': 'و',\n",
       " 'he_docheshm': 'ه',\n",
       " 'ye': 'ی'}"
      ]
     },
     "execution_count": 6,
     "metadata": {},
     "output_type": "execute_result"
    }
   ],
   "source": [
    "inference_letters"
   ]
  },
  {
   "cell_type": "markdown",
   "id": "hollywood-chest",
   "metadata": {},
   "source": [
    "## 6. Basic model inference"
   ]
  },
  {
   "cell_type": "code",
   "execution_count": 72,
   "id": "heated-funeral",
   "metadata": {},
   "outputs": [],
   "source": [
    "import torch"
   ]
  },
  {
   "cell_type": "markdown",
   "id": "allied-spine",
   "metadata": {},
   "source": [
    "## 6.1. SSL problem on macOS"
   ]
  },
  {
   "cell_type": "markdown",
   "id": "helpful-spare",
   "metadata": {},
   "source": [
    "Run the following cell if you have macOS, or in case you get any errors related to SSL certificate."
   ]
  },
  {
   "cell_type": "code",
   "execution_count": 73,
   "id": "russian-wells",
   "metadata": {},
   "outputs": [],
   "source": [
    "import ssl\n",
    "\n",
    "try:\n",
    "    _create_unverified_https_context = ssl._create_unverified_context\n",
    "except AttributeError:\n",
    "    pass\n",
    "else:\n",
    "    ssl._create_default_https_context = _create_unverified_https_context"
   ]
  },
  {
   "cell_type": "markdown",
   "id": "extraordinary-silence",
   "metadata": {},
   "source": [
    "## 6.2. Loading the model"
   ]
  },
  {
   "cell_type": "code",
   "execution_count": 74,
   "id": "quick-triple",
   "metadata": {},
   "outputs": [
    {
     "name": "stderr",
     "output_type": "stream",
     "text": [
      "Downloading: \"https://github.com/ultralytics/yolov5/archive/master.zip\" to /Users/prp-e/.cache/torch/hub/master.zip\n",
      "YOLOv5 🚀 2022-6-21 Python-3.8.6 torch-1.10.0 CPU\n",
      "\n",
      "Fusing layers... \n",
      "Model summary: 290 layers, 20978205 parameters, 0 gradients, 48.3 GFLOPs\n",
      "Adding AutoShape... \n"
     ]
    }
   ],
   "source": [
    "model = torch.hub.load('ultralytics/yolov5', 'custom', path='models/letters.pt', force_reload=True)"
   ]
  },
  {
   "cell_type": "markdown",
   "id": "english-rebound",
   "metadata": {},
   "source": [
    "## 6.3. Loading sample image"
   ]
  },
  {
   "cell_type": "code",
   "execution_count": 79,
   "id": "biological-bridges",
   "metadata": {},
   "outputs": [],
   "source": [
    "image = cv2.imread('../letter_inference_2.png')"
   ]
  },
  {
   "cell_type": "code",
   "execution_count": 80,
   "id": "incorporated-payday",
   "metadata": {},
   "outputs": [
    {
     "data": {
      "text/plain": [
       "<matplotlib.image.AxesImage at 0x7fe904af9d00>"
      ]
     },
     "execution_count": 80,
     "metadata": {},
     "output_type": "execute_result"
    },
    {
     "data": {
      "image/png": "[encoded data removed]",
      "text/plain": [
       "<Figure size 432x288 with 1 Axes>"
      ]
     },
     "metadata": {
      "needs_background": "light"
     },
     "output_type": "display_data"
    }
   ],
   "source": [
    "%matplotlib inline\n",
    "\n",
    "plt.imshow(image)"
   ]
  },
  {
   "cell_type": "markdown",
   "id": "failing-nightlife",
   "metadata": {},
   "source": [
    "## 6.4. Testing the model on single image"
   ]
  },
  {
   "cell_type": "code",
   "execution_count": 81,
   "id": "figured-shame",
   "metadata": {},
   "outputs": [],
   "source": [
    "result = model(image)"
   ]
  },
  {
   "cell_type": "code",
   "execution_count": 82,
   "id": "joined-badge",
   "metadata": {},
   "outputs": [
    {
     "name": "stdout",
     "output_type": "stream",
     "text": [
      "image 1/1: 57x170 1 alef, 1 te, 1 the, 1 re, 1 mim\n",
      "Speed: 2.8ms pre-process, 271.6ms inference, 0.7ms NMS per image at shape (1, 3, 224, 640)\n"
     ]
    }
   ],
   "source": [
    "result.print()"
   ]
  },
  {
   "cell_type": "markdown",
   "id": "hearing-flavor",
   "metadata": {},
   "source": [
    "## 7. Developing functions for extracting texts from the desired image"
   ]
  },
  {
   "cell_type": "code",
   "execution_count": 83,
   "id": "marine-literature",
   "metadata": {},
   "outputs": [],
   "source": [
    "import pandas as pd"
   ]
  },
  {
   "cell_type": "code",
   "execution_count": 84,
   "id": "smart-portfolio",
   "metadata": {},
   "outputs": [],
   "source": [
    "df = result.pandas().xyxy[0]"
   ]
  },
  {
   "cell_type": "code",
   "execution_count": 86,
   "id": "distinguished-trance",
   "metadata": {},
   "outputs": [],
   "source": [
    "letters = df.sort_values('xmin')"
   ]
  },
  {
   "cell_type": "code",
   "execution_count": 87,
   "id": "bronze-insulin",
   "metadata": {},
   "outputs": [
    {
     "data": {
      "text/html": [
       "<div>\n",
       "<style scoped>\n",
       "    .dataframe tbody tr th:only-of-type {\n",
       "        vertical-align: middle;\n",
       "    }\n",
       "\n",
       "    .dataframe tbody tr th {\n",
       "        vertical-align: top;\n",
       "    }\n",
       "\n",
       "    .dataframe thead th {\n",
       "        text-align: right;\n",
       "    }\n",
       "</style>\n",
       "<table border=\"1\" class=\"dataframe\">\n",
       "  <thead>\n",
       "    <tr style=\"text-align: right;\">\n",
       "      <th></th>\n",
       "      <th>xmin</th>\n",
       "      <th>ymin</th>\n",
       "      <th>xmax</th>\n",
       "      <th>ymax</th>\n",
       "      <th>confidence</th>\n",
       "      <th>class</th>\n",
       "      <th>name</th>\n",
       "    </tr>\n",
       "  </thead>\n",
       "  <tbody>\n",
       "    <tr>\n",
       "      <th>2</th>\n",
       "      <td>57.992752</td>\n",
       "      <td>21.908974</td>\n",
       "      <td>69.114197</td>\n",
       "      <td>40.554951</td>\n",
       "      <td>0.970022</td>\n",
       "      <td>11</td>\n",
       "      <td>re</td>\n",
       "    </tr>\n",
       "    <tr>\n",
       "      <th>4</th>\n",
       "      <td>69.241066</td>\n",
       "      <td>10.954058</td>\n",
       "      <td>79.472717</td>\n",
       "      <td>35.666409</td>\n",
       "      <td>0.916004</td>\n",
       "      <td>4</td>\n",
       "      <td>the</td>\n",
       "    </tr>\n",
       "    <tr>\n",
       "      <th>3</th>\n",
       "      <td>79.452194</td>\n",
       "      <td>12.250743</td>\n",
       "      <td>86.324684</td>\n",
       "      <td>33.961494</td>\n",
       "      <td>0.958503</td>\n",
       "      <td>0</td>\n",
       "      <td>alef</td>\n",
       "    </tr>\n",
       "    <tr>\n",
       "      <th>0</th>\n",
       "      <td>85.232422</td>\n",
       "      <td>14.915544</td>\n",
       "      <td>95.533737</td>\n",
       "      <td>35.959709</td>\n",
       "      <td>0.975197</td>\n",
       "      <td>3</td>\n",
       "      <td>te</td>\n",
       "    </tr>\n",
       "    <tr>\n",
       "      <th>1</th>\n",
       "      <td>97.912285</td>\n",
       "      <td>18.282213</td>\n",
       "      <td>109.966560</td>\n",
       "      <td>37.832359</td>\n",
       "      <td>0.972545</td>\n",
       "      <td>27</td>\n",
       "      <td>mim</td>\n",
       "    </tr>\n",
       "  </tbody>\n",
       "</table>\n",
       "</div>"
      ],
      "text/plain": [
       "        xmin       ymin        xmax       ymax  confidence  class  name\n",
       "2  57.992752  21.908974   69.114197  40.554951    0.970022     11    re\n",
       "4  69.241066  10.954058   79.472717  35.666409    0.916004      4   the\n",
       "3  79.452194  12.250743   86.324684  33.961494    0.958503      0  alef\n",
       "0  85.232422  14.915544   95.533737  35.959709    0.975197      3    te\n",
       "1  97.912285  18.282213  109.966560  37.832359    0.972545     27   mim"
      ]
     },
     "execution_count": 87,
     "metadata": {},
     "output_type": "execute_result"
    }
   ],
   "source": [
    "letters"
   ]
  },
  {
   "cell_type": "code",
   "execution_count": 111,
   "id": "exempt-leonard",
   "metadata": {},
   "outputs": [],
   "source": [
    "def extract_letters(result):\n",
    "    df = result.pandas().xyxy[0]\n",
    "    df = df.sort_values('xmin')\n",
    "    \n",
    "    letters = []\n",
    "    \n",
    "    for confidence, name in zip(df['confidence'], df['name']):\n",
    "        if confidence > 0.9:\n",
    "            letters.append(inference_letters[name])\n",
    "            \n",
    "    letters = [letter for letter in reversed(letters)]\n",
    "            \n",
    "    return ''.join(letters)"
   ]
  },
  {
   "cell_type": "markdown",
   "id": "bizarre-survival",
   "metadata": {},
   "source": [
    "## 8. Testing the developed tools for letter inference"
   ]
  },
  {
   "cell_type": "code",
   "execution_count": 114,
   "id": "agricultural-concrete",
   "metadata": {},
   "outputs": [
    {
     "data": {
      "text/plain": [
       "<matplotlib.image.AxesImage at 0x7fe90316a550>"
      ]
     },
     "execution_count": 114,
     "metadata": {},
     "output_type": "execute_result"
    },
    {
     "data": {
      "image/png": "[encoded data removed]",
      "text/plain": [
       "<Figure size 432x288 with 1 Axes>"
      ]
     },
     "metadata": {
      "needs_background": "light"
     },
     "output_type": "display_data"
    }
   ],
   "source": [
    "image = cv2.imread('../letter_inference_3.png')\n",
    "\n",
    "%matplotlib inline\n",
    "plt.imshow(image)"
   ]
  },
  {
   "cell_type": "code",
   "execution_count": 115,
   "id": "qualified-personal",
   "metadata": {},
   "outputs": [],
   "source": [
    "result = model(image)"
   ]
  },
  {
   "cell_type": "code",
   "execution_count": 116,
   "id": "integrated-flesh",
   "metadata": {},
   "outputs": [
    {
     "data": {
      "text/plain": [
       "'فرایندها'"
      ]
     },
     "execution_count": 116,
     "metadata": {},
     "output_type": "execute_result"
    }
   ],
   "source": [
    "extract_letters(result)"
   ]
  }
 ],
 "metadata": {
  "kernelspec": {
   "display_name": "Python 3",
   "language": "python",
   "name": "python3"
  },
  "language_info": {
   "codemirror_mode": {
    "name": "ipython",
    "version": 3
   },
   "file_extension": ".py",
   "mimetype": "text/x-python",
   "name": "python",
   "nbconvert_exporter": "python",
   "pygments_lexer": "ipython3",
   "version": "3.8.6"
  }
 },
 "nbformat": 4,
 "nbformat_minor": 5
}
